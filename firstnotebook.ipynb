{
 "cells": [
  {
   "cell_type": "markdown",
   "metadata": {
    "collapsed": true,
    "pycharm": {
     "name": "#%% md\n"
    }
   },
   "source": [
    "<h1 style=\"font-size:3rem;color:purple;\">Homework 1 CISC 351</h1>\n",
    "\n",
    "\n",
    "This is my first time using jupyter notebooks so bear with me :)\n",
    "Name: Leo Toueg\n",
    "Student#: 20062982"
   ]
  },
  {
   "cell_type": "code",
   "execution_count": 1935,
   "outputs": [],
   "source": [
    "import pandas as pd\n",
    "import numpy as np\n",
    "from scipy.stats import ttest_ind\n",
    "import seaborn as sns\n",
    "import matplotlib.pyplot as plt\n",
    "\n",
    "airbnb = pd.read_csv('listings.csv')\n",
    "\n"
   ],
   "metadata": {
    "collapsed": false,
    "pycharm": {
     "name": "#%%\n"
    }
   }
  },
  {
   "cell_type": "code",
   "execution_count": 1936,
   "outputs": [
    {
     "data": {
      "text/plain": "             id                                               name    host_id  \\\n12328  52759460                                Crazy view and luxe   98954248   \n12329  52760905                Cozy apartment in plateau- Montreal   21801433   \n12330  52762087  4339Cozy BIG Private Room in PLATEAU 75\"TV+NET...  373054767   \n12331  52762449                           Spacious outremont charm   54427037   \n12332  52773199  4339 75\"TV+NETFLIX Cozy BIG Private Room DOWNTOWN  373054767   \n\n      host_name  neighbourhood_group          neighbourhood   latitude  \\\n12328    Chaaba                  NaN            Ville-Marie  45.496378   \n12329     Ghita                  NaN  Le Plateau-Mont-Royal  45.530676   \n12330    Mahmod                  NaN  Le Plateau-Mont-Royal  45.538297   \n12331      John                  NaN              Outremont  45.518886   \n12332    Mahmod                  NaN  Le Plateau-Mont-Royal  45.536311   \n\n       longitude        room_type  price  minimum_nights  number_of_reviews  \\\n12328 -73.572487  Entire home/apt    190              10                  0   \n12329 -73.568063  Entire home/apt     75               2                  0   \n12330 -73.567094     Private room     85               1                  0   \n12331 -73.613011  Entire home/apt    500               2                  0   \n12332 -73.566679     Private room     95               1                  0   \n\n      last_review  reviews_per_month  calculated_host_listings_count  \\\n12328         NaN                NaN                               4   \n12329         NaN                NaN                               1   \n12330         NaN                NaN                               8   \n12331         NaN                NaN                               1   \n12332         NaN                NaN                               8   \n\n       availability_365  number_of_reviews_ltm license  \n12328                53                      0     NaN  \n12329               336                      0     NaN  \n12330                88                      0     NaN  \n12331               167                      0     NaN  \n12332               363                      0     NaN  ",
      "text/html": "<div>\n<style scoped>\n    .dataframe tbody tr th:only-of-type {\n        vertical-align: middle;\n    }\n\n    .dataframe tbody tr th {\n        vertical-align: top;\n    }\n\n    .dataframe thead th {\n        text-align: right;\n    }\n</style>\n<table border=\"1\" class=\"dataframe\">\n  <thead>\n    <tr style=\"text-align: right;\">\n      <th></th>\n      <th>id</th>\n      <th>name</th>\n      <th>host_id</th>\n      <th>host_name</th>\n      <th>neighbourhood_group</th>\n      <th>neighbourhood</th>\n      <th>latitude</th>\n      <th>longitude</th>\n      <th>room_type</th>\n      <th>price</th>\n      <th>minimum_nights</th>\n      <th>number_of_reviews</th>\n      <th>last_review</th>\n      <th>reviews_per_month</th>\n      <th>calculated_host_listings_count</th>\n      <th>availability_365</th>\n      <th>number_of_reviews_ltm</th>\n      <th>license</th>\n    </tr>\n  </thead>\n  <tbody>\n    <tr>\n      <th>12328</th>\n      <td>52759460</td>\n      <td>Crazy view and luxe</td>\n      <td>98954248</td>\n      <td>Chaaba</td>\n      <td>NaN</td>\n      <td>Ville-Marie</td>\n      <td>45.496378</td>\n      <td>-73.572487</td>\n      <td>Entire home/apt</td>\n      <td>190</td>\n      <td>10</td>\n      <td>0</td>\n      <td>NaN</td>\n      <td>NaN</td>\n      <td>4</td>\n      <td>53</td>\n      <td>0</td>\n      <td>NaN</td>\n    </tr>\n    <tr>\n      <th>12329</th>\n      <td>52760905</td>\n      <td>Cozy apartment in plateau- Montreal</td>\n      <td>21801433</td>\n      <td>Ghita</td>\n      <td>NaN</td>\n      <td>Le Plateau-Mont-Royal</td>\n      <td>45.530676</td>\n      <td>-73.568063</td>\n      <td>Entire home/apt</td>\n      <td>75</td>\n      <td>2</td>\n      <td>0</td>\n      <td>NaN</td>\n      <td>NaN</td>\n      <td>1</td>\n      <td>336</td>\n      <td>0</td>\n      <td>NaN</td>\n    </tr>\n    <tr>\n      <th>12330</th>\n      <td>52762087</td>\n      <td>4339Cozy BIG Private Room in PLATEAU 75\"TV+NET...</td>\n      <td>373054767</td>\n      <td>Mahmod</td>\n      <td>NaN</td>\n      <td>Le Plateau-Mont-Royal</td>\n      <td>45.538297</td>\n      <td>-73.567094</td>\n      <td>Private room</td>\n      <td>85</td>\n      <td>1</td>\n      <td>0</td>\n      <td>NaN</td>\n      <td>NaN</td>\n      <td>8</td>\n      <td>88</td>\n      <td>0</td>\n      <td>NaN</td>\n    </tr>\n    <tr>\n      <th>12331</th>\n      <td>52762449</td>\n      <td>Spacious outremont charm</td>\n      <td>54427037</td>\n      <td>John</td>\n      <td>NaN</td>\n      <td>Outremont</td>\n      <td>45.518886</td>\n      <td>-73.613011</td>\n      <td>Entire home/apt</td>\n      <td>500</td>\n      <td>2</td>\n      <td>0</td>\n      <td>NaN</td>\n      <td>NaN</td>\n      <td>1</td>\n      <td>167</td>\n      <td>0</td>\n      <td>NaN</td>\n    </tr>\n    <tr>\n      <th>12332</th>\n      <td>52773199</td>\n      <td>4339 75\"TV+NETFLIX Cozy BIG Private Room DOWNTOWN</td>\n      <td>373054767</td>\n      <td>Mahmod</td>\n      <td>NaN</td>\n      <td>Le Plateau-Mont-Royal</td>\n      <td>45.536311</td>\n      <td>-73.566679</td>\n      <td>Private room</td>\n      <td>95</td>\n      <td>1</td>\n      <td>0</td>\n      <td>NaN</td>\n      <td>NaN</td>\n      <td>8</td>\n      <td>363</td>\n      <td>0</td>\n      <td>NaN</td>\n    </tr>\n  </tbody>\n</table>\n</div>"
     },
     "execution_count": 1936,
     "metadata": {},
     "output_type": "execute_result"
    }
   ],
   "source": [
    "airbnb.head()\n",
    "airbnb.tail()\n",
    "#Looking at first and last rows of data to see what we are dealing with."
   ],
   "metadata": {
    "collapsed": false,
    "pycharm": {
     "name": "#%%\n"
    }
   }
  },
  {
   "cell_type": "markdown",
   "source": [
    "As we can see, we have 12332(+1) rows of data."
   ],
   "metadata": {
    "collapsed": false,
    "pycharm": {
     "name": "#%% md\n"
    }
   }
  },
  {
   "cell_type": "markdown",
   "source": [
    "We can get a litte bit of information on the data by using .info method:"
   ],
   "metadata": {
    "collapsed": false,
    "pycharm": {
     "name": "#%% md\n"
    }
   }
  },
  {
   "cell_type": "code",
   "execution_count": 1937,
   "outputs": [
    {
     "name": "stdout",
     "output_type": "stream",
     "text": [
      "<class 'pandas.core.frame.DataFrame'>\n",
      "RangeIndex: 12333 entries, 0 to 12332\n",
      "Data columns (total 18 columns):\n",
      " #   Column                          Non-Null Count  Dtype  \n",
      "---  ------                          --------------  -----  \n",
      " 0   id                              12333 non-null  int64  \n",
      " 1   name                            12328 non-null  object \n",
      " 2   host_id                         12333 non-null  int64  \n",
      " 3   host_name                       12331 non-null  object \n",
      " 4   neighbourhood_group             0 non-null      float64\n",
      " 5   neighbourhood                   12333 non-null  object \n",
      " 6   latitude                        12333 non-null  float64\n",
      " 7   longitude                       12333 non-null  float64\n",
      " 8   room_type                       12333 non-null  object \n",
      " 9   price                           12333 non-null  int64  \n",
      " 10  minimum_nights                  12333 non-null  int64  \n",
      " 11  number_of_reviews               12333 non-null  int64  \n",
      " 12  last_review                     9678 non-null   object \n",
      " 13  reviews_per_month               9678 non-null   float64\n",
      " 14  calculated_host_listings_count  12333 non-null  int64  \n",
      " 15  availability_365                12333 non-null  int64  \n",
      " 16  number_of_reviews_ltm           12333 non-null  int64  \n",
      " 17  license                         242 non-null    object \n",
      "dtypes: float64(4), int64(8), object(6)\n",
      "memory usage: 1.7+ MB\n"
     ]
    }
   ],
   "source": [
    "airbnb.info()"
   ],
   "metadata": {
    "collapsed": false,
    "pycharm": {
     "name": "#%%\n"
    }
   }
  },
  {
   "cell_type": "markdown",
   "source": [
    "<h1 style=\"font-size:10rem;color:purple;\">Q1.Summary Statistics:</h1>"
   ],
   "metadata": {
    "collapsed": false,
    "pycharm": {
     "name": "#%% md\n"
    }
   }
  },
  {
   "cell_type": "markdown",
   "source": [
    "I will first look at the box plot to see visually what the distribution might look like.\n",
    "\n",
    "#Summary statistic 1:"
   ],
   "metadata": {
    "collapsed": false,
    "pycharm": {
     "name": "#%% md\n"
    }
   }
  },
  {
   "cell_type": "code",
   "execution_count": 1938,
   "outputs": [
    {
     "data": {
      "text/plain": "<Figure size 432x288 with 1 Axes>",
      "image/png": "[encoded data removed]"
     },
     "metadata": {
      "needs_background": "light"
     },
     "output_type": "display_data"
    }
   ],
   "source": [
    "plot1 = airbnb.boxplot(column='price')\n"
   ],
   "metadata": {
    "collapsed": false,
    "pycharm": {
     "name": "#%%\n"
    }
   }
  },
  {
   "cell_type": "markdown",
   "source": [
    "As we can see, the graph is squished. Since at least 75% of the prices are lower than 130(see below), I will adjust\n",
    "this graph by looking at all prices under 600 dollars(which still represents most our data). I will use a violin plot\n",
    "to do this, in order to see both the box plot and the distribution at the same time.\n",
    "\n",
    "#Summary statistic 2:\n"
   ],
   "metadata": {
    "collapsed": false,
    "pycharm": {
     "name": "#%% md\n"
    }
   }
  },
  {
   "cell_type": "code",
   "execution_count": 1939,
   "outputs": [
    {
     "data": {
      "text/plain": "<Figure size 432x288 with 1 Axes>",
      "image/png": "[encoded data removed]"
     },
     "metadata": {
      "needs_background": "light"
     },
     "output_type": "display_data"
    }
   ],
   "source": [
    "under2000 = airbnb[airbnb[\"price\"] < 600]\n",
    "sns.violinplot(y=under2000[\"price\"])\n",
    "plt.show()"
   ],
   "metadata": {
    "collapsed": false,
    "pycharm": {
     "name": "#%%\n"
    }
   }
  },
  {
   "cell_type": "markdown",
   "source": [
    "The last summary statistic is the actual data values of the box plot (quantiles, mean, std, etc...) This gives us\n",
    "an actual idea of the values and the prices ranges we are interested in, and more notably a better understanding of\n",
    "the variance in our data.\n",
    "\n",
    "#Summary statistic 3"
   ],
   "metadata": {
    "collapsed": false,
    "pycharm": {
     "name": "#%% md\n"
    }
   }
  },
  {
   "cell_type": "code",
   "execution_count": 1940,
   "outputs": [
    {
     "data": {
      "text/plain": "count    12333.000000\nmean       125.621747\nstd        261.253110\nmin          0.000000\n25%         52.000000\n50%         85.000000\n75%        130.000000\nmax      13294.000000\nName: price, dtype: float64"
     },
     "execution_count": 1940,
     "metadata": {},
     "output_type": "execute_result"
    }
   ],
   "source": [
    "airbnb['price'].describe()\n",
    "#note that this pertains to all the data, not just all listings < 600$"
   ],
   "metadata": {
    "collapsed": false,
    "pycharm": {
     "name": "#%%\n"
    }
   }
  },
  {
   "cell_type": "markdown",
   "source": [
    "Since there are apparently rows where the price is 0, we will remove these. We can now have more accurate statistics.\n",
    "This can be done as follows:"
   ],
   "metadata": {
    "collapsed": false,
    "pycharm": {
     "name": "#%% md\n"
    }
   }
  },
  {
   "cell_type": "code",
   "execution_count": 1941,
   "outputs": [
    {
     "name": "stdout",
     "output_type": "stream",
     "text": [
      "4\n"
     ]
    },
    {
     "data": {
      "text/plain": "count    12329.000000\nmean       125.662503\nstd        261.285689\nmin         12.000000\n25%         52.000000\n50%         85.000000\n75%        130.000000\nmax      13294.000000\nName: price, dtype: float64"
     },
     "execution_count": 1941,
     "metadata": {},
     "output_type": "execute_result"
    }
   ],
   "source": [
    "print((airbnb['price'] == 0).sum())\n",
    "#checks how many rows have a price of 0\n",
    "\n",
    "airbnb.drop(airbnb[airbnb['price'] <= 0].index, inplace = True)\n",
    "airbnb['price'].describe()"
   ],
   "metadata": {
    "collapsed": false,
    "pycharm": {
     "name": "#%%\n"
    }
   }
  },
  {
   "cell_type": "markdown",
   "source": [
    "I decided to add one more statistic to see what the 95th percentile of the prices is, in order to better understand\n",
    "the exact variance of the data:\n"
   ],
   "metadata": {
    "collapsed": false,
    "pycharm": {
     "name": "#%% md\n"
    }
   }
  },
  {
   "cell_type": "code",
   "execution_count": 1942,
   "outputs": [
    {
     "name": "stdout",
     "output_type": "stream",
     "text": [
      "214.0\n",
      "is the 90% percentile\n",
      "26.0\n",
      "is the 5% percentile\n"
     ]
    }
   ],
   "source": [
    "print(airbnb.price.quantile(0.9))\n",
    "print(\"is the 90% percentile\")\n",
    "\n",
    "print(airbnb.price.quantile(0.05))\n",
    "print(\"is the 5% percentile\")\n",
    "\n",
    "#Summary statistic 4"
   ],
   "metadata": {
    "collapsed": false,
    "pycharm": {
     "name": "#%%\n"
    }
   }
  },
  {
   "cell_type": "code",
   "execution_count": 1943,
   "outputs": [
    {
     "data": {
      "text/plain": "array([[<AxesSubplot:title={'center':'price'}>]], dtype=object)"
     },
     "execution_count": 1943,
     "metadata": {},
     "output_type": "execute_result"
    },
    {
     "data": {
      "text/plain": "<Figure size 432x288 with 1 Axes>",
      "image/png": "[encoded data removed]"
     },
     "metadata": {
      "needs_background": "light"
     },
     "output_type": "display_data"
    }
   ],
   "source": [
    "#In order to show this a little better, here is a histogram\n",
    "airbnb.hist(column=\"price\",bins=80)"
   ],
   "metadata": {
    "collapsed": false,
    "pycharm": {
     "name": "#%%\n"
    }
   }
  },
  {
   "cell_type": "markdown",
   "source": [
    "Statistics Summary:\n",
    "-The pricing data is skewed and has a bit of a tail to the right side.\n",
    "-Parametric tests could be effective if data is normalised, however Non-parametric tests would be better here.\n",
    "-We have gotten a lot of insight on the price ranges for our data set by looking at some elementary statistics.\n",
    "-Prices are mostly between roughly 40 and 200, with a couple outliers\n",
    "-Prices go up to 13294 dollars.\n",
    "-Only 5% of prices are below 2\n",
    "-Only 10% of prices are over 214.\n",
    "-The mean of prices is 125.\n",
    "-the 1st and 3rd quartiles are at 52 and 130 dollars, respectively."
   ],
   "metadata": {
    "collapsed": false,
    "pycharm": {
     "name": "#%% md\n"
    }
   }
  },
  {
   "cell_type": "markdown",
   "source": [
    "<h1 style=\"font-size:10rem;color:purple;\">Q2.Statistical Tests involving room type and list price:</h1>"
   ],
   "metadata": {
    "collapsed": false,
    "pycharm": {
     "name": "#%% md\n"
    }
   }
  },
  {
   "cell_type": "markdown",
   "source": [
    "In order to see how many room types there are, we can use pandas' .nunique() and unique as follows:"
   ],
   "metadata": {
    "collapsed": false,
    "pycharm": {
     "name": "#%% md\n"
    }
   }
  },
  {
   "cell_type": "code",
   "execution_count": 1944,
   "outputs": [
    {
     "name": "stdout",
     "output_type": "stream",
     "text": [
      "4\n",
      "types of rooms:\n"
     ]
    },
    {
     "data": {
      "text/plain": "array(['Entire home/apt', 'Private room', 'Shared room', 'Hotel room'],\n      dtype=object)"
     },
     "execution_count": 1944,
     "metadata": {},
     "output_type": "execute_result"
    }
   ],
   "source": [
    "n = airbnb.room_type.nunique()\n",
    "print(n)\n",
    "print(\"types of rooms:\")\n",
    "pd.unique(airbnb.room_type)"
   ],
   "metadata": {
    "collapsed": false,
    "pycharm": {
     "name": "#%%\n"
    }
   }
  },
  {
   "cell_type": "markdown",
   "source": [
    "As we can see, there are 4 different room_types. We will encode these with integers, and see how many of each our data contains,\n",
    "as follows:"
   ],
   "metadata": {
    "collapsed": false,
    "pycharm": {
     "name": "#%% md\n"
    }
   }
  },
  {
   "cell_type": "code",
   "execution_count": 1945,
   "outputs": [
    {
     "name": "stdout",
     "output_type": "stream",
     "text": [
      "2    9109\n",
      "1    3087\n",
      "0      97\n",
      "3      36\n",
      "Name: room_type, dtype: int64\n"
     ]
    }
   ],
   "source": [
    "room_encoding = {'Shared room': 0, 'Private room' : 1, 'Entire home/apt' : 2, 'Hotel room' : 3 }\n",
    "airbnb['room_type'] = airbnb['room_type'].apply(lambda x: room_encoding[x])\n",
    "#print(airbnb.room_type)\n",
    "print(airbnb['room_type'].value_counts())"
   ],
   "metadata": {
    "collapsed": false,
    "pycharm": {
     "name": "#%%\n"
    }
   }
  },
  {
   "cell_type": "markdown",
   "source": [
    "Since there are 4 types of Rooms, I will perform pairwise two sampled t-tests in order to compare the means of each type of room.\n",
    "I chose to do pairwise two sampled t-tests since each listing belongs to one room_type. Further, since there are only 4 room types,\n",
    "I was curious to see if there were any 2-way similarities in the means of price.\n",
    "\n",
    "Alternative test:\n",
    "\n",
    "I could have equally chosen to do ANOVA to test all room types at once, but I did not have enough time to also try that.\n",
    "where:\n",
    "-H0: The means of the prices of each type of room is the same\n",
    "-H1: The means of the prices in each type of room is not equal [ex: µ(Hotel) != µ(Private Room)…]\n",
    "\n",
    "\n",
    "\n",
    "Null Hypothesis: The mean prices for each pairs of type of room is equal.\n",
    "Alternative hypothesis: The group means are different, thus the room type affects price."
   ],
   "metadata": {
    "collapsed": false,
    "pycharm": {
     "name": "#%% md\n"
    }
   }
  },
  {
   "cell_type": "code",
   "execution_count": 1946,
   "outputs": [
    {
     "name": "stdout",
     "output_type": "stream",
     "text": [
      "mean of class0: 96.55670103092784\n",
      "mean of class1: 75.59345643019113\n",
      "mean of class2: 142.67350971566583\n",
      "mean of class3: 193.25\n",
      "T-test between room type 0 and 1\n",
      "p-value 0.49868234491126406\n",
      "we accept null hypothesis\n",
      "T-test between room type 1 and 2\n",
      "p-value 4.20644375424099e-35\n",
      "we reject null hypothesis\n",
      "T-test between room type 2 and 3\n",
      "p-value 0.2143165860176338\n",
      "we accept null hypothesis\n",
      "T-test between room type 0 and 2\n",
      "p-value 0.06500927776149447\n",
      "we accept null hypothesis\n",
      "T-test between room type 0 and 3\n",
      "p-value 0.05195301179296582\n",
      "we accept null hypothesis\n",
      "T-test between room type 1 and 3\n",
      "p-value 0.019038890784905126\n",
      "we reject null hypothesis\n"
     ]
    }
   ],
   "source": [
    "import statistics\n",
    "#isolating each room type and its price\n",
    "class_0 = airbnb[airbnb[\"room_type\"].isin([0, 0])]\n",
    "class0 = class_0[\"price\"].tolist()\n",
    "#mean of each room type\n",
    "print(\"mean of class0: \"+ str(statistics.mean(class0)))\n",
    "\n",
    "class_1 = airbnb[airbnb[\"room_type\"].isin([1, 1])]\n",
    "class1 = class_1[\"price\"].tolist()\n",
    "print(\"mean of class1: \"+ str(statistics.mean(class1)))\n",
    "\n",
    "class_2 = airbnb[airbnb[\"room_type\"].isin([2, 2])]\n",
    "class2 = class_2[\"price\"].tolist()\n",
    "print(\"mean of class2: \"+ str(statistics.mean(class2)))\n",
    "\n",
    "class_3 = airbnb[airbnb[\"room_type\"].isin([3, 3])]\n",
    "class3 = class_3[\"price\"].tolist()\n",
    "print(\"mean of class3: \"+ str(statistics.mean(class3)))\n",
    "\n",
    "\n",
    "#Here is where I do T-test using ttest_ind()\n",
    "print(\"T-test between room type 0 and 1\")\n",
    "ttest,pval01 = ttest_ind(class0,class1)\n",
    "#print pvalue\n",
    "print(\"p-value\",pval01)\n",
    "#Acceptance critera\n",
    "if pval01 <0.05:\n",
    "    print(\"we reject null hypothesis\")\n",
    "else:\n",
    "    print(\"we accept null hypothesis\")\n",
    "\n",
    "print(\"T-test between room type 1 and 2\")\n",
    "ttest,pval12 = ttest_ind(class1,class2)\n",
    "print(\"p-value\",pval12)\n",
    "if pval12 <0.05:\n",
    "    print(\"we reject null hypothesis\")\n",
    "else:\n",
    "    print(\"we accept null hypothesis\")\n",
    "\n",
    "print(\"T-test between room type 2 and 3\")\n",
    "ttest,pval23 = ttest_ind(class2,class3)\n",
    "print(\"p-value\",pval23)\n",
    "if pval23 <0.05:\n",
    "    print(\"we reject null hypothesis\")\n",
    "else:\n",
    "    print(\"we accept null hypothesis\")\n",
    "\n",
    "print(\"T-test between room type 0 and 2\")\n",
    "ttest,pval02 = ttest_ind(class0,class2)\n",
    "print(\"p-value\",pval02)\n",
    "if pval02 <0.05:\n",
    "    print(\"we reject null hypothesis\")\n",
    "else:\n",
    "    print(\"we accept null hypothesis\")\n",
    "\n",
    "print(\"T-test between room type 0 and 3\")\n",
    "ttest,pval03 = ttest_ind(class0,class3)\n",
    "print(\"p-value\",pval03)\n",
    "if pval03 <0.05:\n",
    "    print(\"we reject null hypothesis\")\n",
    "else:\n",
    "    print(\"we accept null hypothesis\")\n",
    "\n",
    "print(\"T-test between room type 1 and 3\")\n",
    "ttest,pval13 = ttest_ind(class1,class3)\n",
    "print(\"p-value\",pval13)\n",
    "if pval13 <0.05:\n",
    "    print(\"we reject null hypothesis\")\n",
    "else:\n",
    "    print(\"we accept null hypothesis\")"
   ],
   "metadata": {
    "collapsed": false,
    "pycharm": {
     "name": "#%%\n"
    }
   }
  },
  {
   "cell_type": "markdown",
   "source": [
    "In conclusion:\n",
    "The differences in mean price between :\n",
    "-Entire home/apt and Private room = statistically insignificant\n",
    "-Entire home/apt and Shared room = statistically insignificant\n",
    "-Entire home/apt and Hotel room = statistically insignificant\n",
    "-Private room and Shared room = statistically significant\n",
    "-Private room and Hotel room = statistically significant\n",
    "-Shared room and Hotel room = statistically insignificant"
   ],
   "metadata": {
    "collapsed": false,
    "pycharm": {
     "name": "#%% md\n"
    }
   }
  },
  {
   "cell_type": "markdown",
   "source": [
    "<h1 style=\"font-size:10rem;color:purple;\">Q3.Statistical Tests involving neighborhood and list price:</h1>"
   ],
   "metadata": {
    "collapsed": false,
    "pycharm": {
     "name": "#%% md\n"
    }
   }
  },
  {
   "cell_type": "markdown",
   "source": [
    "First we need to encode the neighborhoods, as they are currently strings. This can be done using sklearn and more specifically\n",
    "LabelEncoder. This will transform the strings into integers, for easier analysis."
   ],
   "metadata": {
    "collapsed": false,
    "pycharm": {
     "name": "#%% md\n"
    }
   }
  },
  {
   "cell_type": "code",
   "execution_count": 1947,
   "outputs": [],
   "source": [
    "from sklearn import preprocessing\n",
    "\n",
    "le = preprocessing.LabelEncoder()\n",
    "airbnb['neighbourhood']=le.fit_transform(airbnb['neighbourhood'])\n",
    "\n"
   ],
   "metadata": {
    "collapsed": false,
    "pycharm": {
     "name": "#%%\n"
    }
   }
  },
  {
   "cell_type": "markdown",
   "source": [
    "I Also want to see how many AirBnBs are in each neighborhood:"
   ],
   "metadata": {
    "collapsed": false,
    "pycharm": {
     "name": "#%% md\n"
    }
   }
  },
  {
   "cell_type": "code",
   "execution_count": 1948,
   "outputs": [
    {
     "name": "stdout",
     "output_type": "stream",
     "text": [
      "29    3530\n",
      "13    3094\n",
      "24    1048\n",
      "5      937\n",
      "14     859\n",
      "15     638\n",
      "30     617\n",
      "28     273\n",
      "0      266\n",
      "25     148\n",
      "20     128\n",
      "11     113\n",
      "12      89\n",
      "18      61\n",
      "23      58\n",
      "31      58\n",
      "26      55\n",
      "4       46\n",
      "21      46\n",
      "16      44\n",
      "1       42\n",
      "22      39\n",
      "7       33\n",
      "6       29\n",
      "3       25\n",
      "10      11\n",
      "8       10\n",
      "19       9\n",
      "9        8\n",
      "27       7\n",
      "2        6\n",
      "17       2\n",
      "Name: neighbourhood, dtype: int64\n"
     ]
    }
   ],
   "source": [
    "nbhdata = airbnb[['neighbourhood', 'price']]\n",
    "print(nbhdata['neighbourhood'].value_counts())"
   ],
   "metadata": {
    "collapsed": false,
    "pycharm": {
     "name": "#%%\n"
    }
   }
  },
  {
   "cell_type": "markdown",
   "source": [
    "As we can see, there are a lot in neighborhoods 29 and 13. Since these both have a lot of data entries(3000+), I thought it would\n",
    "be interesting to perform an unpaired T-test to determine whether the price mean for each neighborhood is the same.\n",
    "Null Hypothesis: The mean price of an air bnb in neighborhoods 29 and 13 are the same\n"
   ],
   "metadata": {
    "collapsed": false,
    "pycharm": {
     "name": "#%% md\n"
    }
   }
  },
  {
   "cell_type": "code",
   "execution_count": 1949,
   "outputs": [
    {
     "name": "stdout",
     "output_type": "stream",
     "text": [
      "mean price of neighbourhood 29: 146.14504249291784\n",
      "std dev of neighbourhood 29: 224.662203930382\n",
      "mean price of neighbourhood 13: 130.49935358758887\n",
      "std dev of neighbourhood 13: 301.8318899960484\n"
     ]
    }
   ],
   "source": [
    "\n",
    "import statistics\n",
    "#isolating each neighborhood and its price\n",
    "n29 = airbnb[airbnb[\"neighbourhood\"].isin([29, 29])]\n",
    "nbh29 = n29[\"price\"].tolist()\n",
    "#mean of neighbourhood 29\n",
    "print(\"mean price of neighbourhood 29: \"+ str(statistics.mean(nbh29)))\n",
    "print(\"std dev of neighbourhood 29: \"+ str(np.std(nbh29)))\n",
    "\n",
    "\n",
    "n13 = airbnb[airbnb[\"neighbourhood\"].isin([13, 13])]\n",
    "nbh13 = n13[\"price\"].tolist()\n",
    "#mean of neighbourhood 13\n",
    "print(\"mean price of neighbourhood 13: \"+ str(statistics.mean(nbh13)))\n",
    "print(\"std dev of neighbourhood 13: \"+ str(np.std(nbh13)))\n"
   ],
   "metadata": {
    "collapsed": false,
    "pycharm": {
     "name": "#%%\n"
    }
   }
  },
  {
   "cell_type": "markdown",
   "source": [
    "As we can see, the mean price of each neighborhood is very similar, and the standard deviation is relatively similar too.\n",
    "It is time to do the T-test as follows:"
   ],
   "metadata": {
    "collapsed": false,
    "pycharm": {
     "name": "#%% md\n"
    }
   }
  },
  {
   "cell_type": "code",
   "execution_count": 1950,
   "outputs": [
    {
     "name": "stdout",
     "output_type": "stream",
     "text": [
      "T-test between neighbourhoods 29 and 13\n",
      "p-value 0.015964748640661428\n",
      "we accept null hypothesis\n"
     ]
    }
   ],
   "source": [
    "#Here is where I do T-test using ttest_ind()\n",
    "print(\"T-test between neighbourhoods 29 and 13\")\n",
    "ttest,pval = ttest_ind(nbh29,nbh13)\n",
    "#print pvalue\n",
    "print(\"p-value\",pval)\n",
    "#Acceptance critera\n",
    "if pval01 <0.05:\n",
    "    print(\"we reject null hypothesis\")\n",
    "else:\n",
    "    print(\"we accept null hypothesis\")"
   ],
   "metadata": {
    "collapsed": false,
    "pycharm": {
     "name": "#%%\n"
    }
   }
  },
  {
   "cell_type": "markdown",
   "source": [
    "The reason I chose this test is because we are looking at continous data, and comparing the difference in means. Further, since there are only 2 groups and I make the parametric assumptions (Independent unbiased samples, normally distributed data, equal variances) it makes sense to use a unpaired T-test. If I had not made such assumptions, I would've done either a Mann-Whiskey U or Wilcoxon Rank sums test."
   ],
   "metadata": {
    "collapsed": false,
    "pycharm": {
     "name": "#%% md\n"
    }
   }
  },
  {
   "cell_type": "markdown",
   "source": [
    "<h1 style=\"font-size:10rem;color:purple;\">Q4.Correlation Tests:</h1>"
   ],
   "metadata": {
    "collapsed": false,
    "pycharm": {
     "name": "#%% md\n"
    }
   }
  },
  {
   "cell_type": "markdown",
   "source": [
    "In order to get an idea of what attributes might be correlated, I used a correlation matrix to see what attributes\n",
    "might be correlated:\n",
    "\n",
    "Source: https://amanjaiman.github.io/nyc-airbnb-data/\n",
    "Origin: Link provided by instructor"
   ],
   "metadata": {
    "collapsed": false,
    "pycharm": {
     "name": "#%% md\n"
    }
   }
  },
  {
   "cell_type": "code",
   "execution_count": 1951,
   "outputs": [
    {
     "data": {
      "text/plain": "<pandas.io.formats.style.Styler at 0x15d90faee80>",
      "text/html": "<style type=\"text/css\">\n#T_66210_row0_col0, #T_66210_row1_col1, #T_66210_row2_col2, #T_66210_row3_col3, #T_66210_row4_col4, #T_66210_row5_col5, #T_66210_row6_col6, #T_66210_row7_col7, #T_66210_row8_col8, #T_66210_row9_col9, #T_66210_row10_col10, #T_66210_row11_col11, #T_66210_row12_col12 {\n  background-color: #b40426;\n  color: #f1f1f1;\n}\n#T_66210_row0_col1 {\n  background-color: #efcebd;\n  color: #000000;\n}\n#T_66210_row0_col2, #T_66210_row6_col4, #T_66210_row7_col1 {\n  background-color: #4e68d8;\n  color: #f1f1f1;\n}\n#T_66210_row0_col3, #T_66210_row0_col7, #T_66210_row4_col11, #T_66210_row7_col12, #T_66210_row9_col7 {\n  background-color: #3c4ec2;\n  color: #f1f1f1;\n}\n#T_66210_row0_col4, #T_66210_row6_col7, #T_66210_row7_col4, #T_66210_row8_col10, #T_66210_row10_col7 {\n  background-color: #485fd1;\n  color: #f1f1f1;\n}\n#T_66210_row0_col5, #T_66210_row1_col6, #T_66210_row7_col3, #T_66210_row7_col5 {\n  background-color: #4b64d5;\n  color: #f1f1f1;\n}\n#T_66210_row0_col6, #T_66210_row4_col7, #T_66210_row8_col6, #T_66210_row12_col3 {\n  background-color: #455cce;\n  color: #f1f1f1;\n}\n#T_66210_row0_col8, #T_66210_row1_col7, #T_66210_row3_col5, #T_66210_row3_col6, #T_66210_row3_col9, #T_66210_row3_col10, #T_66210_row3_col11, #T_66210_row3_col12, #T_66210_row7_col2, #T_66210_row8_col0, #T_66210_row8_col1, #T_66210_row10_col3, #T_66210_row11_col4, #T_66210_row12_col7 {\n  background-color: #3b4cc0;\n  color: #f1f1f1;\n}\n#T_66210_row0_col9, #T_66210_row9_col1 {\n  background-color: #aec9fc;\n  color: #000000;\n}\n#T_66210_row0_col10 {\n  background-color: #8fb1fe;\n  color: #000000;\n}\n#T_66210_row0_col11 {\n  background-color: #6b8df0;\n  color: #f1f1f1;\n}\n#T_66210_row0_col12, #T_66210_row9_col11 {\n  background-color: #7396f5;\n  color: #f1f1f1;\n}\n#T_66210_row1_col0 {\n  background-color: #f6bfa6;\n  color: #000000;\n}\n#T_66210_row1_col2, #T_66210_row5_col1, #T_66210_row6_col10, #T_66210_row8_col3, #T_66210_row9_col2 {\n  background-color: #516ddb;\n  color: #f1f1f1;\n}\n#T_66210_row1_col3, #T_66210_row11_col2 {\n  background-color: #3d50c3;\n  color: #f1f1f1;\n}\n#T_66210_row1_col4, #T_66210_row5_col3 {\n  background-color: #465ecf;\n  color: #f1f1f1;\n}\n#T_66210_row1_col5, #T_66210_row3_col7, #T_66210_row8_col2, #T_66210_row9_col3 {\n  background-color: #3e51c5;\n  color: #f1f1f1;\n}\n#T_66210_row1_col8, #T_66210_row6_col11, #T_66210_row9_col5 {\n  background-color: #6485ec;\n  color: #f1f1f1;\n}\n#T_66210_row1_col9 {\n  background-color: #a5c3fe;\n  color: #000000;\n}\n#T_66210_row1_col10, #T_66210_row1_col11, #T_66210_row8_col5 {\n  background-color: #6687ed;\n  color: #f1f1f1;\n}\n#T_66210_row1_col12 {\n  background-color: #799cf8;\n  color: #f1f1f1;\n}\n#T_66210_row2_col0 {\n  background-color: #94b6ff;\n  color: #000000;\n}\n#T_66210_row2_col1, #T_66210_row10_col9, #T_66210_row12_col11 {\n  background-color: #6f92f3;\n  color: #f1f1f1;\n}\n#T_66210_row2_col3 {\n  background-color: #6a8bef;\n  color: #f1f1f1;\n}\n#T_66210_row2_col4, #T_66210_row12_col0 {\n  background-color: #a9c6fd;\n  color: #000000;\n}\n#T_66210_row2_col5 {\n  background-color: #5e7de7;\n  color: #f1f1f1;\n}\n#T_66210_row2_col6, #T_66210_row4_col6, #T_66210_row12_col2 {\n  background-color: #4961d2;\n  color: #f1f1f1;\n}\n#T_66210_row2_col7, #T_66210_row3_col1, #T_66210_row7_col6, #T_66210_row7_col9, #T_66210_row12_col6 {\n  background-color: #445acc;\n  color: #f1f1f1;\n}\n#T_66210_row2_col8 {\n  background-color: #85a8fc;\n  color: #f1f1f1;\n}\n#T_66210_row2_col9, #T_66210_row5_col6 {\n  background-color: #6384eb;\n  color: #f1f1f1;\n}\n#T_66210_row2_col10, #T_66210_row9_col10 {\n  background-color: #7597f6;\n  color: #f1f1f1;\n}\n#T_66210_row2_col11, #T_66210_row9_col6 {\n  background-color: #4c66d6;\n  color: #f1f1f1;\n}\n#T_66210_row2_col12, #T_66210_row7_col10, #T_66210_row11_col7 {\n  background-color: #5470de;\n  color: #f1f1f1;\n}\n#T_66210_row3_col0, #T_66210_row5_col12, #T_66210_row10_col11, #T_66210_row11_col12, #T_66210_row12_col5 {\n  background-color: #6e90f2;\n  color: #f1f1f1;\n}\n#T_66210_row3_col2, #T_66210_row5_col2, #T_66210_row8_col4 {\n  background-color: #536edd;\n  color: #f1f1f1;\n}\n#T_66210_row3_col4 {\n  background-color: #a2c1ff;\n  color: #000000;\n}\n#T_66210_row3_col8, #T_66210_row4_col0 {\n  background-color: #82a6fb;\n  color: #f1f1f1;\n}\n#T_66210_row4_col1, #T_66210_row5_col4, #T_66210_row5_col11, #T_66210_row6_col9, #T_66210_row7_col11 {\n  background-color: #5875e1;\n  color: #f1f1f1;\n}\n#T_66210_row4_col2 {\n  background-color: #9fbfff;\n  color: #000000;\n}\n#T_66210_row4_col3 {\n  background-color: #aac7fd;\n  color: #000000;\n}\n#T_66210_row4_col5, #T_66210_row4_col12, #T_66210_row10_col12, #T_66210_row12_col4 {\n  background-color: #5673e0;\n  color: #f1f1f1;\n}\n#T_66210_row4_col8 {\n  background-color: #8db0fe;\n  color: #000000;\n}\n#T_66210_row4_col9, #T_66210_row6_col1, #T_66210_row8_col11, #T_66210_row10_col4, #T_66210_row12_col10 {\n  background-color: #6282ea;\n  color: #f1f1f1;\n}\n#T_66210_row4_col10, #T_66210_row5_col9, #T_66210_row10_col1 {\n  background-color: #6c8ff1;\n  color: #f1f1f1;\n}\n#T_66210_row5_col0 {\n  background-color: #88abfd;\n  color: #000000;\n}\n#T_66210_row5_col7, #T_66210_row6_col3, #T_66210_row6_col12 {\n  background-color: #4a63d3;\n  color: #f1f1f1;\n}\n#T_66210_row5_col8 {\n  background-color: #9ebeff;\n  color: #000000;\n}\n#T_66210_row5_col10 {\n  background-color: #7b9ff9;\n  color: #f1f1f1;\n}\n#T_66210_row6_col0, #T_66210_row6_col8 {\n  background-color: #86a9fc;\n  color: #f1f1f1;\n}\n#T_66210_row6_col2, #T_66210_row11_col3 {\n  background-color: #4358cb;\n  color: #f1f1f1;\n}\n#T_66210_row6_col5 {\n  background-color: #688aef;\n  color: #f1f1f1;\n}\n#T_66210_row7_col0, #T_66210_row10_col8 {\n  background-color: #7a9df8;\n  color: #f1f1f1;\n}\n#T_66210_row7_col8 {\n  background-color: #7da0f9;\n  color: #f1f1f1;\n}\n#T_66210_row8_col7 {\n  background-color: #3f53c6;\n  color: #f1f1f1;\n}\n#T_66210_row8_col9 {\n  background-color: #c4d5f3;\n  color: #000000;\n}\n#T_66210_row8_col12 {\n  background-color: #e3d9d3;\n  color: #000000;\n}\n#T_66210_row9_col0 {\n  background-color: #d2dbe8;\n  color: #000000;\n}\n#T_66210_row9_col4, #T_66210_row10_col2, #T_66210_row11_col6 {\n  background-color: #5d7ce6;\n  color: #f1f1f1;\n}\n#T_66210_row9_col8 {\n  background-color: #dfdbd9;\n  color: #000000;\n}\n#T_66210_row9_col12 {\n  background-color: #f2c9b4;\n  color: #000000;\n}\n#T_66210_row10_col0 {\n  background-color: #b7cff9;\n  color: #000000;\n}\n#T_66210_row10_col5 {\n  background-color: #7093f3;\n  color: #f1f1f1;\n}\n#T_66210_row10_col6 {\n  background-color: #4257c9;\n  color: #f1f1f1;\n}\n#T_66210_row11_col0 {\n  background-color: #a1c0ff;\n  color: #000000;\n}\n#T_66210_row11_col1, #T_66210_row11_col10 {\n  background-color: #7699f6;\n  color: #f1f1f1;\n}\n#T_66210_row11_col5 {\n  background-color: #5572df;\n  color: #f1f1f1;\n}\n#T_66210_row11_col8 {\n  background-color: #98b9ff;\n  color: #000000;\n}\n#T_66210_row11_col9 {\n  background-color: #779af7;\n  color: #f1f1f1;\n}\n#T_66210_row12_col1 {\n  background-color: #89acfd;\n  color: #000000;\n}\n#T_66210_row12_col8, #T_66210_row12_col9 {\n  background-color: #f3c7b1;\n  color: #000000;\n}\n</style>\n<table id=\"T_66210_\">\n  <thead>\n    <tr>\n      <th class=\"blank level0\" >&nbsp;</th>\n      <th class=\"col_heading level0 col0\" >id</th>\n      <th class=\"col_heading level0 col1\" >host_id</th>\n      <th class=\"col_heading level0 col2\" >neighbourhood</th>\n      <th class=\"col_heading level0 col3\" >latitude</th>\n      <th class=\"col_heading level0 col4\" >longitude</th>\n      <th class=\"col_heading level0 col5\" >room_type</th>\n      <th class=\"col_heading level0 col6\" >price</th>\n      <th class=\"col_heading level0 col7\" >minimum_nights</th>\n      <th class=\"col_heading level0 col8\" >number_of_reviews</th>\n      <th class=\"col_heading level0 col9\" >reviews_per_month</th>\n      <th class=\"col_heading level0 col10\" >calculated_host_listings_count</th>\n      <th class=\"col_heading level0 col11\" >availability_365</th>\n      <th class=\"col_heading level0 col12\" >number_of_reviews_ltm</th>\n    </tr>\n  </thead>\n  <tbody>\n    <tr>\n      <th id=\"T_66210_level0_row0\" class=\"row_heading level0 row0\" >id</th>\n      <td id=\"T_66210_row0_col0\" class=\"data row0 col0\" >1.000000</td>\n      <td id=\"T_66210_row0_col1\" class=\"data row0 col1\" >0.538846</td>\n      <td id=\"T_66210_row0_col2\" class=\"data row0 col2\" >0.062639</td>\n      <td id=\"T_66210_row0_col3\" class=\"data row0 col3\" >-0.077990</td>\n      <td id=\"T_66210_row0_col4\" class=\"data row0 col4\" >-0.002347</td>\n      <td id=\"T_66210_row0_col5\" class=\"data row0 col5\" >0.015449</td>\n      <td id=\"T_66210_row0_col6\" class=\"data row0 col6\" >0.011416</td>\n      <td id=\"T_66210_row0_col7\" class=\"data row0 col7\" >-0.033195</td>\n      <td id=\"T_66210_row0_col8\" class=\"data row0 col8\" >-0.286468</td>\n      <td id=\"T_66210_row0_col9\" class=\"data row0 col9\" >0.302394</td>\n      <td id=\"T_66210_row0_col10\" class=\"data row0 col10\" >0.191880</td>\n      <td id=\"T_66210_row0_col11\" class=\"data row0 col11\" >0.108809</td>\n      <td id=\"T_66210_row0_col12\" class=\"data row0 col12\" >0.140086</td>\n    </tr>\n    <tr>\n      <th id=\"T_66210_level0_row1\" class=\"row_heading level0 row1\" >host_id</th>\n      <td id=\"T_66210_row1_col0\" class=\"data row1 col0\" >0.538846</td>\n      <td id=\"T_66210_row1_col1\" class=\"data row1 col1\" >1.000000</td>\n      <td id=\"T_66210_row1_col2\" class=\"data row1 col2\" >0.074132</td>\n      <td id=\"T_66210_row1_col3\" class=\"data row1 col3\" >-0.074778</td>\n      <td id=\"T_66210_row1_col4\" class=\"data row1 col4\" >-0.003847</td>\n      <td id=\"T_66210_row1_col5\" class=\"data row1 col5\" >-0.027497</td>\n      <td id=\"T_66210_row1_col6\" class=\"data row1 col6\" >0.031480</td>\n      <td id=\"T_66210_row1_col7\" class=\"data row1 col7\" >-0.038473</td>\n      <td id=\"T_66210_row1_col8\" class=\"data row1 col8\" >-0.111821</td>\n      <td id=\"T_66210_row1_col9\" class=\"data row1 col9\" >0.272322</td>\n      <td id=\"T_66210_row1_col10\" class=\"data row1 col10\" >0.064692</td>\n      <td id=\"T_66210_row1_col11\" class=\"data row1 col11\" >0.093617</td>\n      <td id=\"T_66210_row1_col12\" class=\"data row1 col12\" >0.156545</td>\n    </tr>\n    <tr>\n      <th id=\"T_66210_level0_row2\" class=\"row_heading level0 row2\" >neighbourhood</th>\n      <td id=\"T_66210_row2_col0\" class=\"data row2 col0\" >0.062639</td>\n      <td id=\"T_66210_row2_col1\" class=\"data row2 col1\" >0.074132</td>\n      <td id=\"T_66210_row2_col2\" class=\"data row2 col2\" >1.000000</td>\n      <td id=\"T_66210_row2_col3\" class=\"data row2 col3\" >0.077239</td>\n      <td id=\"T_66210_row2_col4\" class=\"data row2 col4\" >0.299602</td>\n      <td id=\"T_66210_row2_col5\" class=\"data row2 col5\" >0.077193</td>\n      <td id=\"T_66210_row2_col6\" class=\"data row2 col6\" >0.023939</td>\n      <td id=\"T_66210_row2_col7\" class=\"data row2 col7\" >-0.003629</td>\n      <td id=\"T_66210_row2_col8\" class=\"data row2 col8\" >0.009181</td>\n      <td id=\"T_66210_row2_col9\" class=\"data row2 col9\" >0.071792</td>\n      <td id=\"T_66210_row2_col10\" class=\"data row2 col10\" >0.110033</td>\n      <td id=\"T_66210_row2_col11\" class=\"data row2 col11\" >0.007978</td>\n      <td id=\"T_66210_row2_col12\" class=\"data row2 col12\" >0.043560</td>\n    </tr>\n    <tr>\n      <th id=\"T_66210_level0_row3\" class=\"row_heading level0 row3\" >latitude</th>\n      <td id=\"T_66210_row3_col0\" class=\"data row3 col0\" >-0.077990</td>\n      <td id=\"T_66210_row3_col1\" class=\"data row3 col1\" >-0.074778</td>\n      <td id=\"T_66210_row3_col2\" class=\"data row3 col2\" >0.077239</td>\n      <td id=\"T_66210_row3_col3\" class=\"data row3 col3\" >1.000000</td>\n      <td id=\"T_66210_row3_col4\" class=\"data row3 col4\" >0.277961</td>\n      <td id=\"T_66210_row3_col5\" class=\"data row3 col5\" >-0.042261</td>\n      <td id=\"T_66210_row3_col6\" class=\"data row3 col6\" >-0.027551</td>\n      <td id=\"T_66210_row3_col7\" class=\"data row3 col7\" >-0.023865</td>\n      <td id=\"T_66210_row3_col8\" class=\"data row3 col8\" >-0.003430</td>\n      <td id=\"T_66210_row3_col9\" class=\"data row3 col9\" >-0.068923</td>\n      <td id=\"T_66210_row3_col10\" class=\"data row3 col10\" >-0.084978</td>\n      <td id=\"T_66210_row3_col11\" class=\"data row3 col11\" >-0.053836</td>\n      <td id=\"T_66210_row3_col12\" class=\"data row3 col12\" >-0.046217</td>\n    </tr>\n    <tr>\n      <th id=\"T_66210_level0_row4\" class=\"row_heading level0 row4\" >longitude</th>\n      <td id=\"T_66210_row4_col0\" class=\"data row4 col0\" >-0.002347</td>\n      <td id=\"T_66210_row4_col1\" class=\"data row4 col1\" >-0.003847</td>\n      <td id=\"T_66210_row4_col2\" class=\"data row4 col2\" >0.299602</td>\n      <td id=\"T_66210_row4_col3\" class=\"data row4 col3\" >0.277961</td>\n      <td id=\"T_66210_row4_col4\" class=\"data row4 col4\" >1.000000</td>\n      <td id=\"T_66210_row4_col5\" class=\"data row4 col5\" >0.052237</td>\n      <td id=\"T_66210_row4_col6\" class=\"data row4 col6\" >0.020861</td>\n      <td id=\"T_66210_row4_col7\" class=\"data row4 col7\" >-0.001151</td>\n      <td id=\"T_66210_row4_col8\" class=\"data row4 col8\" >0.035878</td>\n      <td id=\"T_66210_row4_col9\" class=\"data row4 col9\" >0.067441</td>\n      <td id=\"T_66210_row4_col10\" class=\"data row4 col10\" >0.086395</td>\n      <td id=\"T_66210_row4_col11\" class=\"data row4 col11\" >-0.048071</td>\n      <td id=\"T_66210_row4_col12\" class=\"data row4 col12\" >0.048328</td>\n    </tr>\n    <tr>\n      <th id=\"T_66210_level0_row5\" class=\"row_heading level0 row5\" >room_type</th>\n      <td id=\"T_66210_row5_col0\" class=\"data row5 col0\" >0.015449</td>\n      <td id=\"T_66210_row5_col1\" class=\"data row5 col1\" >-0.027497</td>\n      <td id=\"T_66210_row5_col2\" class=\"data row5 col2\" >0.077193</td>\n      <td id=\"T_66210_row5_col3\" class=\"data row5 col3\" >-0.042261</td>\n      <td id=\"T_66210_row5_col4\" class=\"data row5 col4\" >0.052237</td>\n      <td id=\"T_66210_row5_col5\" class=\"data row5 col5\" >1.000000</td>\n      <td id=\"T_66210_row5_col6\" class=\"data row5 col6\" >0.108764</td>\n      <td id=\"T_66210_row5_col7\" class=\"data row5 col7\" >0.016169</td>\n      <td id=\"T_66210_row5_col8\" class=\"data row5 col8\" >0.100238</td>\n      <td id=\"T_66210_row5_col9\" class=\"data row5 col9\" >0.099624</td>\n      <td id=\"T_66210_row5_col10\" class=\"data row5 col10\" >0.135131</td>\n      <td id=\"T_66210_row5_col11\" class=\"data row5 col11\" >0.048311</td>\n      <td id=\"T_66210_row5_col12\" class=\"data row5 col12\" >0.124788</td>\n    </tr>\n    <tr>\n      <th id=\"T_66210_level0_row6\" class=\"row_heading level0 row6\" >price</th>\n      <td id=\"T_66210_row6_col0\" class=\"data row6 col0\" >0.011416</td>\n      <td id=\"T_66210_row6_col1\" class=\"data row6 col1\" >0.031480</td>\n      <td id=\"T_66210_row6_col2\" class=\"data row6 col2\" >0.023939</td>\n      <td id=\"T_66210_row6_col3\" class=\"data row6 col3\" >-0.027551</td>\n      <td id=\"T_66210_row6_col4\" class=\"data row6 col4\" >0.020861</td>\n      <td id=\"T_66210_row6_col5\" class=\"data row6 col5\" >0.108764</td>\n      <td id=\"T_66210_row6_col6\" class=\"data row6 col6\" >1.000000</td>\n      <td id=\"T_66210_row6_col7\" class=\"data row6 col7\" >0.007285</td>\n      <td id=\"T_66210_row6_col8\" class=\"data row6 col8\" >0.010172</td>\n      <td id=\"T_66210_row6_col9\" class=\"data row6 col9\" >0.035321</td>\n      <td id=\"T_66210_row6_col10\" class=\"data row6 col10\" >-0.002265</td>\n      <td id=\"T_66210_row6_col11\" class=\"data row6 col11\" >0.088676</td>\n      <td id=\"T_66210_row6_col12\" class=\"data row6 col12\" >0.007139</td>\n    </tr>\n    <tr>\n      <th id=\"T_66210_level0_row7\" class=\"row_heading level0 row7\" >minimum_nights</th>\n      <td id=\"T_66210_row7_col0\" class=\"data row7 col0\" >-0.033195</td>\n      <td id=\"T_66210_row7_col1\" class=\"data row7 col1\" >-0.038473</td>\n      <td id=\"T_66210_row7_col2\" class=\"data row7 col2\" >-0.003629</td>\n      <td id=\"T_66210_row7_col3\" class=\"data row7 col3\" >-0.023865</td>\n      <td id=\"T_66210_row7_col4\" class=\"data row7 col4\" >-0.001151</td>\n      <td id=\"T_66210_row7_col5\" class=\"data row7 col5\" >0.016169</td>\n      <td id=\"T_66210_row7_col6\" class=\"data row7 col6\" >0.007285</td>\n      <td id=\"T_66210_row7_col7\" class=\"data row7 col7\" >1.000000</td>\n      <td id=\"T_66210_row7_col8\" class=\"data row7 col8\" >-0.021293</td>\n      <td id=\"T_66210_row7_col9\" class=\"data row7 col9\" >-0.033116</td>\n      <td id=\"T_66210_row7_col10\" class=\"data row7 col10\" >0.008103</td>\n      <td id=\"T_66210_row7_col11\" class=\"data row7 col11\" >0.047591</td>\n      <td id=\"T_66210_row7_col12\" class=\"data row7 col12\" >-0.038410</td>\n    </tr>\n    <tr>\n      <th id=\"T_66210_level0_row8\" class=\"row_heading level0 row8\" >number_of_reviews</th>\n      <td id=\"T_66210_row8_col0\" class=\"data row8 col0\" >-0.286468</td>\n      <td id=\"T_66210_row8_col1\" class=\"data row8 col1\" >-0.111821</td>\n      <td id=\"T_66210_row8_col2\" class=\"data row8 col2\" >0.009181</td>\n      <td id=\"T_66210_row8_col3\" class=\"data row8 col3\" >-0.003430</td>\n      <td id=\"T_66210_row8_col4\" class=\"data row8 col4\" >0.035878</td>\n      <td id=\"T_66210_row8_col5\" class=\"data row8 col5\" >0.100238</td>\n      <td id=\"T_66210_row8_col6\" class=\"data row8 col6\" >0.010172</td>\n      <td id=\"T_66210_row8_col7\" class=\"data row8 col7\" >-0.021293</td>\n      <td id=\"T_66210_row8_col8\" class=\"data row8 col8\" >1.000000</td>\n      <td id=\"T_66210_row8_col9\" class=\"data row8 col9\" >0.370920</td>\n      <td id=\"T_66210_row8_col10\" class=\"data row8 col10\" >-0.034781</td>\n      <td id=\"T_66210_row8_col11\" class=\"data row8 col11\" >0.078548</td>\n      <td id=\"T_66210_row8_col12\" class=\"data row8 col12\" >0.502698</td>\n    </tr>\n    <tr>\n      <th id=\"T_66210_level0_row9\" class=\"row_heading level0 row9\" >reviews_per_month</th>\n      <td id=\"T_66210_row9_col0\" class=\"data row9 col0\" >0.302394</td>\n      <td id=\"T_66210_row9_col1\" class=\"data row9 col1\" >0.272322</td>\n      <td id=\"T_66210_row9_col2\" class=\"data row9 col2\" >0.071792</td>\n      <td id=\"T_66210_row9_col3\" class=\"data row9 col3\" >-0.068923</td>\n      <td id=\"T_66210_row9_col4\" class=\"data row9 col4\" >0.067441</td>\n      <td id=\"T_66210_row9_col5\" class=\"data row9 col5\" >0.099624</td>\n      <td id=\"T_66210_row9_col6\" class=\"data row9 col6\" >0.035321</td>\n      <td id=\"T_66210_row9_col7\" class=\"data row9 col7\" >-0.033116</td>\n      <td id=\"T_66210_row9_col8\" class=\"data row9 col8\" >0.370920</td>\n      <td id=\"T_66210_row9_col9\" class=\"data row9 col9\" >1.000000</td>\n      <td id=\"T_66210_row9_col10\" class=\"data row9 col10\" >0.110246</td>\n      <td id=\"T_66210_row9_col11\" class=\"data row9 col11\" >0.133684</td>\n      <td id=\"T_66210_row9_col12\" class=\"data row9 col12\" >0.588025</td>\n    </tr>\n    <tr>\n      <th id=\"T_66210_level0_row10\" class=\"row_heading level0 row10\" >calculated_host_listings_count</th>\n      <td id=\"T_66210_row10_col0\" class=\"data row10 col0\" >0.191880</td>\n      <td id=\"T_66210_row10_col1\" class=\"data row10 col1\" >0.064692</td>\n      <td id=\"T_66210_row10_col2\" class=\"data row10 col2\" >0.110033</td>\n      <td id=\"T_66210_row10_col3\" class=\"data row10 col3\" >-0.084978</td>\n      <td id=\"T_66210_row10_col4\" class=\"data row10 col4\" >0.086395</td>\n      <td id=\"T_66210_row10_col5\" class=\"data row10 col5\" >0.135131</td>\n      <td id=\"T_66210_row10_col6\" class=\"data row10 col6\" >-0.002265</td>\n      <td id=\"T_66210_row10_col7\" class=\"data row10 col7\" >0.008103</td>\n      <td id=\"T_66210_row10_col8\" class=\"data row10 col8\" >-0.034781</td>\n      <td id=\"T_66210_row10_col9\" class=\"data row10 col9\" >0.110246</td>\n      <td id=\"T_66210_row10_col10\" class=\"data row10 col10\" >1.000000</td>\n      <td id=\"T_66210_row10_col11\" class=\"data row10 col11\" >0.116730</td>\n      <td id=\"T_66210_row10_col12\" class=\"data row10 col12\" >0.051284</td>\n    </tr>\n    <tr>\n      <th id=\"T_66210_level0_row11\" class=\"row_heading level0 row11\" >availability_365</th>\n      <td id=\"T_66210_row11_col0\" class=\"data row11 col0\" >0.108809</td>\n      <td id=\"T_66210_row11_col1\" class=\"data row11 col1\" >0.093617</td>\n      <td id=\"T_66210_row11_col2\" class=\"data row11 col2\" >0.007978</td>\n      <td id=\"T_66210_row11_col3\" class=\"data row11 col3\" >-0.053836</td>\n      <td id=\"T_66210_row11_col4\" class=\"data row11 col4\" >-0.048071</td>\n      <td id=\"T_66210_row11_col5\" class=\"data row11 col5\" >0.048311</td>\n      <td id=\"T_66210_row11_col6\" class=\"data row11 col6\" >0.088676</td>\n      <td id=\"T_66210_row11_col7\" class=\"data row11 col7\" >0.047591</td>\n      <td id=\"T_66210_row11_col8\" class=\"data row11 col8\" >0.078548</td>\n      <td id=\"T_66210_row11_col9\" class=\"data row11 col9\" >0.133684</td>\n      <td id=\"T_66210_row11_col10\" class=\"data row11 col10\" >0.116730</td>\n      <td id=\"T_66210_row11_col11\" class=\"data row11 col11\" >1.000000</td>\n      <td id=\"T_66210_row11_col12\" class=\"data row11 col12\" >0.121535</td>\n    </tr>\n    <tr>\n      <th id=\"T_66210_level0_row12\" class=\"row_heading level0 row12\" >number_of_reviews_ltm</th>\n      <td id=\"T_66210_row12_col0\" class=\"data row12 col0\" >0.140086</td>\n      <td id=\"T_66210_row12_col1\" class=\"data row12 col1\" >0.156545</td>\n      <td id=\"T_66210_row12_col2\" class=\"data row12 col2\" >0.043560</td>\n      <td id=\"T_66210_row12_col3\" class=\"data row12 col3\" >-0.046217</td>\n      <td id=\"T_66210_row12_col4\" class=\"data row12 col4\" >0.048328</td>\n      <td id=\"T_66210_row12_col5\" class=\"data row12 col5\" >0.124788</td>\n      <td id=\"T_66210_row12_col6\" class=\"data row12 col6\" >0.007139</td>\n      <td id=\"T_66210_row12_col7\" class=\"data row12 col7\" >-0.038410</td>\n      <td id=\"T_66210_row12_col8\" class=\"data row12 col8\" >0.502698</td>\n      <td id=\"T_66210_row12_col9\" class=\"data row12 col9\" >0.588025</td>\n      <td id=\"T_66210_row12_col10\" class=\"data row12 col10\" >0.051284</td>\n      <td id=\"T_66210_row12_col11\" class=\"data row12 col11\" >0.121535</td>\n      <td id=\"T_66210_row12_col12\" class=\"data row12 col12\" >1.000000</td>\n    </tr>\n  </tbody>\n</table>\n"
     },
     "execution_count": 1951,
     "metadata": {},
     "output_type": "execute_result"
    }
   ],
   "source": [
    "airbnb.drop('neighbourhood_group', axis=1, inplace=True)\n",
    "airbnb.corr().style.background_gradient(cmap='coolwarm')"
   ],
   "metadata": {
    "collapsed": false,
    "pycharm": {
     "name": "#%%\n"
    }
   }
  },
  {
   "cell_type": "markdown",
   "source": [
    "As we can see, no two variables stand out as having large correlation. One notable one, which I will try first is the\n",
    "correlation between the number of reviews per month and the number of reviews in the last 12 months, which appears\n",
    "to have the strongest correlation out of the pairs.\n",
    "\n",
    "Since we are not entirely sure of the underlying data distributions, I will try both Pearson and Spearman correlation tests."
   ],
   "metadata": {
    "collapsed": false,
    "pycharm": {
     "name": "#%% md\n"
    }
   }
  },
  {
   "cell_type": "code",
   "execution_count": 1952,
   "outputs": [
    {
     "name": "stdout",
     "output_type": "stream",
     "text": [
      "Pearson Correlation: \n"
     ]
    },
    {
     "data": {
      "text/plain": "0.5880252886306321"
     },
     "execution_count": 1952,
     "metadata": {},
     "output_type": "execute_result"
    }
   ],
   "source": [
    "first = airbnb[['reviews_per_month', 'number_of_reviews_ltm']]\n",
    "#Pearson test using parametric assumptions\n",
    "print(\"Pearson Correlation: \")\n",
    "airbnb.reviews_per_month.corr(airbnb.number_of_reviews_ltm, method=\"pearson\")"
   ],
   "metadata": {
    "collapsed": false,
    "pycharm": {
     "name": "#%%\n"
    }
   }
  },
  {
   "cell_type": "markdown",
   "source": [
    "Now we will try the Spearman correlation, which doesn't use parametric assumptions:"
   ],
   "metadata": {
    "collapsed": false,
    "pycharm": {
     "name": "#%% md\n"
    }
   }
  },
  {
   "cell_type": "code",
   "execution_count": 1953,
   "outputs": [
    {
     "name": "stdout",
     "output_type": "stream",
     "text": [
      "Spearman Correlation: \n"
     ]
    },
    {
     "data": {
      "text/plain": "0.7479225836359327"
     },
     "execution_count": 1953,
     "metadata": {},
     "output_type": "execute_result"
    }
   ],
   "source": [
    "first = airbnb[['reviews_per_month', 'number_of_reviews_ltm']]\n",
    "#Spearman test using no underlying distribution assumptions\n",
    "print(\"Spearman Correlation: \")\n",
    "airbnb.reviews_per_month.corr(airbnb.number_of_reviews_ltm, method=\"spearman\")"
   ],
   "metadata": {
    "collapsed": false,
    "pycharm": {
     "name": "#%%\n"
    }
   }
  },
  {
   "cell_type": "markdown",
   "source": [
    "Since this is closer to 1 than -1, we can conclude that there is a direct correlation between the number of reviews per months and the\n",
    "number of reviews in the last 12 months. Intuitively, this makes sense, however this result is not very interesting. For this reason\n",
    "I chose to do a third test, to see if two variables might be more related than they seem. I am interested in seeing if the number of reviews affect the price, as intuitively I feel like the more reviews a place has the more the owner would charge.\n"
   ],
   "metadata": {
    "collapsed": false,
    "pycharm": {
     "name": "#%% md\n"
    }
   }
  },
  {
   "cell_type": "code",
   "execution_count": 1954,
   "outputs": [
    {
     "name": "stdout",
     "output_type": "stream",
     "text": [
      "Spearman Correlation: \n"
     ]
    },
    {
     "data": {
      "text/plain": "0.0986329056962256"
     },
     "execution_count": 1954,
     "metadata": {},
     "output_type": "execute_result"
    }
   ],
   "source": [
    "first = airbnb[['number_of_reviews', 'price']]\n",
    "#Spearman test using no underlying distribution assumptions\n",
    "print(\"Spearman Correlation: \")\n",
    "airbnb.number_of_reviews.corr(airbnb.price, method=\"spearman\")"
   ],
   "metadata": {
    "collapsed": false,
    "pycharm": {
     "name": "#%%\n"
    }
   }
  },
  {
   "cell_type": "markdown",
   "source": [
    "As it turns out, I seem to have been mistaken in my assumption. As the result is very close to 0, nothing suggests that there might be\n",
    "a relationship between the number of reviews and the price of an AirBnb.\n",
    "I hope you enjoyed :)\n",
    "Note: this was my first time using Dataspell and jupyter notebooks so it took me a long time to setup my environment. For this\n",
    "reason I did not go thoroughly check all the statistical assumptions and I chose statistical tests for which I made parametric\n",
    "assumptions for the most part."
   ],
   "metadata": {
    "collapsed": false,
    "pycharm": {
     "name": "#%% md\n"
    }
   }
  }
 ],
 "metadata": {
  "kernelspec": {
   "display_name": "Python 3",
   "language": "python",
   "name": "python3"
  },
  "language_info": {
   "codemirror_mode": {
    "name": "ipython",
    "version": 2
   },
   "file_extension": ".py",
   "mimetype": "text/x-python",
   "name": "python",
   "nbconvert_exporter": "python",
   "pygments_lexer": "ipython2",
   "version": "2.7.6"
  }
 },
 "nbformat": 4,
 "nbformat_minor": 0
}